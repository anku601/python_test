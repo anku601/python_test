{
 "cells": [
  {
   "cell_type": "markdown",
   "id": "911c43bb-fa5c-48f7-a213-c08e4fd7d2ae",
   "metadata": {},
   "source": [
    "### 1)\tWrite a program to count the sub_string from main string\r\n",
    "Example:- A B C D C D C\r\n",
    "Sub_string= C D C result =2\r\n"
   ]
  },
  {
   "cell_type": "code",
   "execution_count": 12,
   "id": "c6211f05-6916-4304-b450-1c4b21c9958c",
   "metadata": {},
   "outputs": [
    {
     "name": "stdout",
     "output_type": "stream",
     "text": [
      "Sub_string = 'C D C' occurs 2 times in the main string.\n"
     ]
    }
   ],
   "source": [
    "def count_substring(main_string, sub_string):\n",
    "    count = 0\n",
    "    sub_len = len(sub_string)\n",
    "    \n",
    "   \n",
    "    for i in range(len(main_string) - sub_len + 1):\n",
    "        # Check if the substring matches\n",
    "        if main_string[i:i + sub_len] == sub_string:\n",
    "            count += 1\n",
    "            \n",
    "    return count\n",
    "\n",
    "\n",
    "main_string = \"A B C D C D C\"\n",
    "sub_string = \"C D C\"\n",
    "\n",
    "\n",
    "result = count_substring(main_string.split(), sub_string.split())\n",
    "\n",
    "print(f\"Sub_string = '{sub_string}' occurs {result} times in the main string.\")"
   ]
  },
  {
   "cell_type": "markdown",
   "id": "b75ab474-4e7d-4fb3-978e-a79eb6a8e00f",
   "metadata": {},
   "source": [
    "### 2)\tWrite a program to take 4 number and store in list [2,4,6,8] find the factorial of the each number of the list and store the value  in the list \n"
   ]
  },
  {
   "cell_type": "code",
   "execution_count": 7,
   "id": "a375d91d-d8be-418a-9d90-07495710535b",
   "metadata": {},
   "outputs": [
    {
     "name": "stdout",
     "output_type": "stream",
     "text": [
      "Original list: [2, 4, 6, 8]\n",
      "List of factorials: [2, 24, 720, 40320]\n"
     ]
    }
   ],
   "source": [
    "import math\n",
    "numbers = [2, 4, 6, 8]\n",
    "\n",
    "factorials = []\n",
    "\n",
    "for number in numbers:\n",
    "    factorials.append(math.factorial(number))\n",
    "\n",
    "print(\"Original list:\", numbers)\n",
    "print(\"List of factorials:\",factorials)"
   ]
  },
  {
   "cell_type": "markdown",
   "id": "77ac85ae-9897-4f40-aa81-df6a22522072",
   "metadata": {},
   "source": [
    "### 3)\tCreate a strong password combining words, numbers and characters.\n",
    "(* )Keep creating the new password until you find one you like  \r\n",
    "\r\n"
   ]
  },
  {
   "cell_type": "code",
   "execution_count": 16,
   "id": "1191045a-dbd1-4ccb-805e-512a6a5fedd0",
   "metadata": {},
   "outputs": [
    {
     "name": "stdout",
     "output_type": "stream",
     "text": [
      "Generated Password: hE#hocE4c6o\n"
     ]
    },
    {
     "name": "stdin",
     "output_type": "stream",
     "text": [
      "Do you like this password? (yes/no):  no\n"
     ]
    },
    {
     "name": "stdout",
     "output_type": "stream",
     "text": [
      "Generating a new password...\n",
      "\n",
      "Generated Password: Daroalv76teB}\n"
     ]
    },
    {
     "name": "stdin",
     "output_type": "stream",
     "text": [
      "Do you like this password? (yes/no):  no\n"
     ]
    },
    {
     "name": "stdout",
     "output_type": "stream",
     "text": [
      "Generating a new password...\n",
      "\n",
      "Generated Password: ~xhrop7otta5lAF\n"
     ]
    },
    {
     "name": "stdin",
     "output_type": "stream",
     "text": [
      "Do you like this password? (yes/no):  yes\n"
     ]
    },
    {
     "name": "stdout",
     "output_type": "stream",
     "text": [
      "Password chosen!\n"
     ]
    }
   ],
   "source": [
    "import random\n",
    "import string\n",
    "\n",
    "def generate_password():\n",
    "    words = [\"Alpha\", \"Bravo\", \"Charlie\", \"Delta\", \"Echo\", \"Foxtrot\"]\n",
    "    numbers = [str(i) for i in range(10)]\n",
    "    special_characters = string.punctuation\n",
    "\n",
    "\n",
    "    password = (\n",
    "        random.choice(words) +\n",
    "        random.choice(numbers) +\n",
    "        random.choice(words) +\n",
    "        random.choice(special_characters) +\n",
    "        random.choice(numbers)\n",
    "    )\n",
    "\n",
    "    password = ''.join(random.sample(password, len(password)))\n",
    "    return password\n",
    "\n",
    "while True:\n",
    "    password = generate_password()\n",
    "    print(f\"Generated Password: {password}\")\n",
    "    \n",
    "    choice = input(\"Do you like this password? (yes/no): \").lower()\n",
    "    if choice == 'yes':\n",
    "        print(\"Password chosen!\")\n",
    "        break\n",
    "    else:\n",
    "        print(\"Generating a new password...\\n\")"
   ]
  },
  {
   "cell_type": "markdown",
   "id": "a5dff6c0-df89-4398-9cee-32777b8802b0",
   "metadata": {},
   "source": [
    "### Checking of the vowels inside the string"
   ]
  },
  {
   "cell_type": "code",
   "execution_count": 19,
   "id": "1d83add0-ae97-4c82-8262-5ca7ef195f97",
   "metadata": {},
   "outputs": [
    {
     "name": "stdout",
     "output_type": "stream",
     "text": [
      "Vowel 'a' occurs 1 times.\n",
      "Vowel 'e' occurs 2 times.\n",
      "Vowel 'i' occurs 0 times.\n",
      "Vowel 'o' occurs 4 times.\n",
      "Vowel 'u' occurs 1 times.\n"
     ]
    }
   ],
   "source": [
    "def count_vowels(input_string):\n",
    "    vowels = \"aeiou\"\n",
    "    vowel_count = {vowel: 0 for vowel in vowels}\n",
    "\n",
    "    input_string = input_string.lower()\n",
    "\n",
    "    for char in input_string:\n",
    "        if char in vowels:\n",
    "            vowel_count[char] += 1\n",
    "\n",
    "    return vowel_count\n",
    "\n",
    "input_string = \"Hello World, How Are You?\"\n",
    "result = count_vowels(input_string)\n",
    "\n",
    "for vowel, count in result.items():\n",
    "    print(f\"Vowel '{vowel}' occurs {count} times.\")"
   ]
  },
  {
   "cell_type": "markdown",
   "id": "477545be-38a8-4234-a2b8-6a6dcaa60660",
   "metadata": {},
   "source": [
    "### 5)\tA python program to access each element of a string in forward and reverse orders using while loop "
   ]
  },
  {
   "cell_type": "code",
   "execution_count": 22,
   "id": "67729c26-deba-4608-9c09-2066274b8a08",
   "metadata": {},
   "outputs": [
    {
     "name": "stdout",
     "output_type": "stream",
     "text": [
      "Accessing elements in forward order:\n",
      "P y t h o n \n",
      "\n",
      "Accessing elements in reverse order:\n",
      "n o h t y P "
     ]
    }
   ],
   "source": [
    "def access_string_elements(input_string):\n",
    "   \n",
    "    print(\"Accessing elements in forward order:\")\n",
    "    i = 0\n",
    "    while i < len(input_string):\n",
    "        print(input_string[i], end=\" \")\n",
    "        i += 1\n",
    "    \n",
    "    print(\"\\n\") \n",
    "    \n",
    "\n",
    "    print(\"Accessing elements in reverse order:\")\n",
    "    i = len(input_string) - 1\n",
    "    while i >= 0:\n",
    "        print(input_string[i], end=\" \")\n",
    "        i -= 1\n",
    "\n",
    "\n",
    "input_string = \"Python\"\n",
    "\n",
    "access_string_elements(input_string)"
   ]
  },
  {
   "cell_type": "markdown",
   "id": "d906fa36-d5ee-4afa-9541-c22d2d0b97e0",
   "metadata": {},
   "source": [
    "### 6)\tWrite a python program to know whether a sub- string exists in main string "
   ]
  },
  {
   "cell_type": "code",
   "execution_count": 25,
   "id": "8f851a9f-11d7-4baa-bcb7-769571ad3318",
   "metadata": {},
   "outputs": [
    {
     "name": "stdout",
     "output_type": "stream",
     "text": [
      "The substring 'Python' exists in the main string.\n"
     ]
    }
   ],
   "source": [
    "def is_substring(main_string, sub_string):\n",
    "    if sub_string in main_string:\n",
    "        return True\n",
    "    else:\n",
    "        return False\n",
    "\n",
    "main_string = \"Hello, welcome to the world of Python programming!\"\n",
    "sub_string = \"Python\"\n",
    "\n",
    "if is_substring(main_string, sub_string):\n",
    "    print(f\"The substring '{sub_string}' exists in the main string.\")\n",
    "else:\n",
    "    print(f\"The substring '{sub_string}' does not exist in the main string.\")"
   ]
  },
  {
   "cell_type": "markdown",
   "id": "e404b6ac-45a1-4e32-8f8b-17cee64d307c",
   "metadata": {},
   "source": [
    "### 7)\tA python program to find the first occurrences of sub string in a given main string  "
   ]
  },
  {
   "cell_type": "code",
   "execution_count": 28,
   "id": "f3efb107-4dbd-4b01-b4de-39d113334073",
   "metadata": {},
   "outputs": [
    {
     "name": "stdout",
     "output_type": "stream",
     "text": [
      "The first occurrence of the substring 'Python' is at index: 31\n"
     ]
    }
   ],
   "source": [
    "def find_first_occurrence(main_string, sub_string):\n",
    "    index = main_string.find(sub_string)\n",
    "    \n",
    "    if index != -1:\n",
    "        return index\n",
    "    else:\n",
    "        return \"Substring not found.\"\n",
    "\n",
    "main_string = \"Hello, welcome to the world of Python programming!\"\n",
    "sub_string = \"Python\"\n",
    "\n",
    "result = find_first_occurrence(main_string, sub_string)\n",
    "print(f\"The first occurrence of the substring '{sub_string}' is at index: {result}\")"
   ]
  },
  {
   "cell_type": "code",
   "execution_count": null,
   "id": "266ad175-dd5e-47a1-bd9f-67f31f332dcf",
   "metadata": {},
   "outputs": [],
   "source": []
  }
 ],
 "metadata": {
  "kernelspec": {
   "display_name": "Python 3 (ipykernel)",
   "language": "python",
   "name": "python3"
  },
  "language_info": {
   "codemirror_mode": {
    "name": "ipython",
    "version": 3
   },
   "file_extension": ".py",
   "mimetype": "text/x-python",
   "name": "python",
   "nbconvert_exporter": "python",
   "pygments_lexer": "ipython3",
   "version": "3.12.4"
  }
 },
 "nbformat": 4,
 "nbformat_minor": 5
}
